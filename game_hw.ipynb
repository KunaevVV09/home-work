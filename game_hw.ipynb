{
 "cells": [
  {
   "cell_type": "markdown",
   "id": "68ae5951",
   "metadata": {},
   "source": [
    "# Игра угадай число"
   ]
  },
  {
   "cell_type": "code",
   "execution_count": 9,
   "id": "f53573f6",
   "metadata": {},
   "outputs": [],
   "source": [
    "from game_hw import average_number\n",
    "from game_hw import random_predict"
   ]
  },
  {
   "cell_type": "markdown",
   "id": "47d568db",
   "metadata": {},
   "source": [
    "## Угадываем рандомно и вычисляем среднее количество затраченых попыток"
   ]
  },
  {
   "cell_type": "code",
   "execution_count": 12,
   "id": "4ac9331e",
   "metadata": {},
   "outputs": [
    {
     "name": "stdout",
     "output_type": "stream",
     "text": [
      "Ваш алгоритм угадывает число в среднем за: 10 попыток\n"
     ]
    },
    {
     "data": {
      "text/plain": [
       "10"
      ]
     },
     "execution_count": 12,
     "metadata": {},
     "output_type": "execute_result"
    }
   ],
   "source": [
    "average_number(random_predict)"
   ]
  }
 ],
 "metadata": {
  "kernelspec": {
   "display_name": "Python 3",
   "language": "python",
   "name": "python3"
  },
  "language_info": {
   "codemirror_mode": {
    "name": "ipython",
    "version": 3
   },
   "file_extension": ".py",
   "mimetype": "text/x-python",
   "name": "python",
   "nbconvert_exporter": "python",
   "pygments_lexer": "ipython3",
   "version": "3.9.10"
  }
 },
 "nbformat": 4,
 "nbformat_minor": 5
}
